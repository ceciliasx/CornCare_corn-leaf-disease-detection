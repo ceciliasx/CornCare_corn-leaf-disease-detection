{
 "cells": [
  {
   "cell_type": "code",
   "execution_count": 1,
   "id": "8319d658",
   "metadata": {},
   "outputs": [],
   "source": [
    "import os\n",
    "import torch\n",
    "import torch.nn as nn\n",
    "import torch.optim as optim\n",
    "import torch.nn.functional as F\n",
    "from torch.utils.data import DataLoader\n",
    "from torchvision import datasets, transforms, models\n",
    "from sklearn.metrics import classification_report, confusion_matrix\n",
    "import copy\n",
    "import numpy as np\n",
    "import matplotlib.pyplot as plt\n",
    "from sklearn.metrics import classification_report, confusion_matrix\n",
    "import seaborn as sns"
   ]
  },
  {
   "cell_type": "code",
   "execution_count": 2,
   "id": "caa80555",
   "metadata": {},
   "outputs": [],
   "source": [
    "device = torch.device(\"cuda\" if torch.cuda.is_available() else \"cpu\")\n",
    "\n",
    "SEED = 42\n",
    "torch.manual_seed(SEED)\n",
    "np.random.seed(SEED)"
   ]
  },
  {
   "cell_type": "code",
   "execution_count": 3,
   "id": "7fe578c9",
   "metadata": {},
   "outputs": [],
   "source": [
    "train_transform = transforms.Compose([\n",
    "    transforms.Resize((224, 224)),\n",
    "    transforms.RandomHorizontalFlip(),\n",
    "    transforms.RandomRotation(30),\n",
    "    transforms.ColorJitter(brightness=0.2, contrast=0.2, saturation=0.2),\n",
    "    transforms.ToTensor(),\n",
    "    transforms.Normalize([0.485, 0.456, 0.406], \n",
    "                         [0.229, 0.224, 0.225])\n",
    "])\n",
    "\n",
    "val_transform = transforms.Compose([\n",
    "    transforms.Resize((224, 224)),\n",
    "    transforms.ToTensor(),\n",
    "    transforms.Normalize([0.485, 0.456, 0.406], \n",
    "                         [0.229, 0.224, 0.225])\n",
    "])"
   ]
  },
  {
   "cell_type": "code",
   "execution_count": 4,
   "id": "5e02fbea",
   "metadata": {},
   "outputs": [
    {
     "name": "stdout",
     "output_type": "stream",
     "text": [
      "Classes: ['Hawar', 'Karat', 'Sehat']\n"
     ]
    }
   ],
   "source": [
    "dataset = datasets.ImageFolder(\"./dataset\", transform=train_transform)\n",
    "\n",
    "# split 70/15/15\n",
    "total_size = len(dataset)\n",
    "train_size = int(0.7 * total_size)\n",
    "val_size = int(0.15 * total_size)\n",
    "test_size = total_size - train_size - val_size\n",
    "train_ds, val_ds, test_ds = torch.utils.data.random_split(dataset, [train_size, val_size, test_size], generator=torch.Generator().manual_seed(SEED))\n",
    "\n",
    "val_ds.dataset.transform = val_transform\n",
    "test_ds.dataset.transform = val_transform\n",
    "\n",
    "train_loader = DataLoader(train_ds, batch_size=32, shuffle=True)\n",
    "val_loader   = DataLoader(val_ds, batch_size=32, shuffle=False)\n",
    "test_loader  = DataLoader(test_ds, batch_size=32, shuffle=False)\n",
    "\n",
    "class_names = dataset.classes\n",
    "print(\"Classes:\", dataset.classes)"
   ]
  },
  {
   "cell_type": "code",
   "execution_count": 5,
   "id": "76690278",
   "metadata": {},
   "outputs": [],
   "source": [
    "def build_model(model_name, num_classes):\n",
    "    if model_name == \"resnet50\":\n",
    "        model = models.resnet50(pretrained=True)\n",
    "        for param in model.parameters():\n",
    "            param.requires_grad = False\n",
    "        model.fc = nn.Linear(model.fc.in_features, num_classes)\n",
    "    elif model_name == \"densenet121\":\n",
    "        model = models.densenet121(pretrained=True)\n",
    "        for param in model.features.parameters():\n",
    "            param.requires_grad = False\n",
    "        model.classifier = nn.Linear(model.classifier.in_features, num_classes)\n",
    "    else:\n",
    "        raise ValueError(\"Model not supported\")\n",
    "    return model.to(device)"
   ]
  },
  {
   "cell_type": "code",
   "execution_count": 6,
   "id": "9d018b2c",
   "metadata": {},
   "outputs": [],
   "source": [
    "def train_model(model, criterion, optimizer, scheduler, num_epochs=10, patience=5):\n",
    "    best_val_loss = float(\"inf\")\n",
    "    patience_counter = 0\n",
    "\n",
    "    for epoch in range(num_epochs):\n",
    "        # Train\n",
    "        model.train()\n",
    "        running_loss, correct, total = 0.0, 0, 0\n",
    "        for images, labels in train_loader:\n",
    "            images, labels = images.to(device), labels.to(device)\n",
    "            optimizer.zero_grad()\n",
    "            outputs = model(images)\n",
    "            loss = criterion(outputs, labels)\n",
    "            loss.backward()\n",
    "            optimizer.step()\n",
    "\n",
    "            running_loss += loss.item() * images.size(0)\n",
    "            _, preds = torch.max(outputs, 1)\n",
    "            correct += (preds == labels).sum().item()\n",
    "            total += labels.size(0)\n",
    "\n",
    "        train_loss = running_loss / len(train_loader.dataset)\n",
    "        train_acc = correct / total\n",
    "\n",
    "        # Validate\n",
    "        model.eval()\n",
    "        running_loss, correct, total = 0.0, 0, 0\n",
    "        with torch.no_grad():\n",
    "            for images, labels in val_loader:\n",
    "                images, labels = images.to(device), labels.to(device)\n",
    "                outputs = model(images)\n",
    "                loss = criterion(outputs, labels)\n",
    "                running_loss += loss.item() * images.size(0)\n",
    "                _, preds = torch.max(outputs, 1)\n",
    "                correct += (preds == labels).sum().item()\n",
    "                total += labels.size(0)\n",
    "\n",
    "        val_loss = running_loss / len(val_loader.dataset)\n",
    "        val_acc = correct / total\n",
    "\n",
    "        scheduler.step(val_loss)\n",
    "\n",
    "        print(f\"Epoch {epoch+1}/{num_epochs} \"\n",
    "              f\"- Train Loss: {train_loss:.4f} Acc: {train_acc:.4f} \"\n",
    "              f\"- Val Loss: {val_loss:.4f} Acc: {val_acc:.4f}\")\n",
    "\n",
    "        # Early stopping\n",
    "        if val_loss < best_val_loss:\n",
    "            best_val_loss = val_loss\n",
    "            patience_counter = 0\n",
    "            torch.save(model.state_dict(), f\"best_{type(model).__name__}.pth\")\n",
    "        else:\n",
    "            patience_counter += 1\n",
    "            if patience_counter >= patience:\n",
    "                print(\"Early stopping triggered.\")\n",
    "                break\n",
    "\n",
    "    print(\"Training complete.\")"
   ]
  },
  {
   "cell_type": "code",
   "execution_count": 7,
   "id": "2db8323f",
   "metadata": {},
   "outputs": [],
   "source": [
    "# Optimizer, Scheduler\n",
    "# optimizer_resnet = optim.Adam(resnet50.fc.parameters(), lr=1e-4, weight_decay=1e-4)\n",
    "# sch_resnet = optim.lr_scheduler.ReduceLROnPlateau(optimizer_resnet, mode='min', patience=3, factor=0.5, verbose=True)\n",
    "\n",
    "# optimizer_densenet = optim.Adam(densenet121.classifier.parameters(), lr=1e-4, weight_decay=1e-4)\n",
    "# sch_dense = optim.lr_scheduler.ReduceLROnPlateau(optimizer_densenet, mode='min', patience=3, factor=0.5, verbose=True)"
   ]
  },
  {
   "cell_type": "code",
   "execution_count": 8,
   "id": "8ceacc29",
   "metadata": {},
   "outputs": [],
   "source": [
    "# Train\n",
    "# train_resnet = train_model(resnet50, optimizer_resnet, sch_resnet, \"resnet50\", epochs=10)\n",
    "# train_densenet = train_model(densenet121, optimizer_densenet, sch_dense, \"densenet121\", epochs=10)\n",
    "\n",
    "# Save\n",
    "# torch.save(train_resnet.state_dict(), \"corn_resnet50.pth\")\n",
    "# print(\"Model saved as corn_resnet50.pth\")\n",
    "# torch.save(train_densenet.state_dict(), \"corn_densenet121.pth\")\n",
    "# print(\"Model saved as corn_densenet121.pth\")"
   ]
  },
  {
   "cell_type": "code",
   "execution_count": 9,
   "id": "b5270edd",
   "metadata": {},
   "outputs": [],
   "source": [
    "def evaluate_model(model, model_path):\n",
    "    model.load_state_dict(torch.load(model_path))\n",
    "    model.eval()\n",
    "\n",
    "    all_preds, all_labels = [], []\n",
    "    with torch.no_grad():\n",
    "        for images, labels in test_loader:\n",
    "            images, labels = images.to(device), labels.to(device)\n",
    "            outputs = model(images)\n",
    "            _, preds = torch.max(outputs, 1)\n",
    "            all_preds.extend(preds.cpu().numpy())\n",
    "            all_labels.extend(labels.cpu().numpy())\n",
    "\n",
    "    print(\"\\nClassification Report:\")\n",
    "    print(classification_report(all_labels, all_preds, target_names=class_names))\n",
    "\n",
    "    cm = confusion_matrix(all_labels, all_preds)\n",
    "    plt.figure(figsize=(6,6))\n",
    "    sns.heatmap(cm, annot=True, fmt=\"d\", cmap=\"Blues\",\n",
    "                xticklabels=class_names, yticklabels=class_names)\n",
    "    plt.xlabel(\"Predicted\")\n",
    "    plt.ylabel(\"True\")\n",
    "    plt.title(f\"Confusion Matrix - {type(model).__name__}\")\n",
    "    plt.show()"
   ]
  },
  {
   "cell_type": "code",
   "execution_count": 10,
   "id": "1723e986",
   "metadata": {},
   "outputs": [
    {
     "name": "stdout",
     "output_type": "stream",
     "text": [
      "\n",
      "===== Training RESNET50 =====\n"
     ]
    },
    {
     "name": "stderr",
     "output_type": "stream",
     "text": [
      "d:\\Miniconda\\envs\\dl_env\\Lib\\site-packages\\torchvision\\models\\_utils.py:208: UserWarning: The parameter 'pretrained' is deprecated since 0.13 and may be removed in the future, please use 'weights' instead.\n",
      "  warnings.warn(\n",
      "d:\\Miniconda\\envs\\dl_env\\Lib\\site-packages\\torchvision\\models\\_utils.py:223: UserWarning: Arguments other than a weight enum or `None` for 'weights' are deprecated since 0.13 and may be removed in the future. The current behavior is equivalent to passing `weights=ResNet50_Weights.IMAGENET1K_V1`. You can also use `weights=ResNet50_Weights.DEFAULT` to get the most up-to-date weights.\n",
      "  warnings.warn(msg)\n",
      "d:\\Miniconda\\envs\\dl_env\\Lib\\site-packages\\torch\\optim\\lr_scheduler.py:62: UserWarning: The verbose parameter is deprecated. Please use get_last_lr() to access the learning rate.\n",
      "  warnings.warn(\n"
     ]
    },
    {
     "name": "stdout",
     "output_type": "stream",
     "text": [
      "Epoch 1/10 - Train Loss: 1.0443 Acc: 0.5069 - Val Loss: 1.0482 Acc: 0.3696\n",
      "Epoch 2/10 - Train Loss: 0.7203 Acc: 0.7742 - Val Loss: 0.7034 Acc: 0.7609\n",
      "Epoch 3/10 - Train Loss: 0.5295 Acc: 0.8986 - Val Loss: 0.6693 Acc: 0.6957\n",
      "Epoch 4/10 - Train Loss: 0.4530 Acc: 0.9032 - Val Loss: 0.4603 Acc: 0.8261\n",
      "Epoch 5/10 - Train Loss: 0.3856 Acc: 0.8940 - Val Loss: 0.3992 Acc: 0.8913\n",
      "Epoch 6/10 - Train Loss: 0.3394 Acc: 0.9309 - Val Loss: 0.3518 Acc: 0.8913\n",
      "Epoch 7/10 - Train Loss: 0.3012 Acc: 0.9171 - Val Loss: 0.3348 Acc: 0.8913\n",
      "Epoch 8/10 - Train Loss: 0.2794 Acc: 0.9355 - Val Loss: 0.2997 Acc: 0.9130\n",
      "Epoch 9/10 - Train Loss: 0.3251 Acc: 0.8894 - Val Loss: 0.2864 Acc: 0.9348\n",
      "Epoch 10/10 - Train Loss: 0.2278 Acc: 0.9493 - Val Loss: 0.2673 Acc: 0.9130\n",
      "Training complete.\n"
     ]
    },
    {
     "name": "stderr",
     "output_type": "stream",
     "text": [
      "C:\\Users\\ASUS\\AppData\\Local\\Temp\\ipykernel_22452\\559994869.py:2: FutureWarning: You are using `torch.load` with `weights_only=False` (the current default value), which uses the default pickle module implicitly. It is possible to construct malicious pickle data which will execute arbitrary code during unpickling (See https://github.com/pytorch/pytorch/blob/main/SECURITY.md#untrusted-models for more details). In a future release, the default value for `weights_only` will be flipped to `True`. This limits the functions that could be executed during unpickling. Arbitrary objects will no longer be allowed to be loaded via this mode unless they are explicitly allowlisted by the user via `torch.serialization.add_safe_globals`. We recommend you start setting `weights_only=True` for any use case where you don't have full control of the loaded file. Please open an issue on GitHub for any issues related to this experimental feature.\n",
      "  model.load_state_dict(torch.load(model_path))\n"
     ]
    },
    {
     "name": "stdout",
     "output_type": "stream",
     "text": [
      "\n",
      "Classification Report:\n",
      "              precision    recall  f1-score   support\n",
      "\n",
      "       Hawar       1.00      0.95      0.98        21\n",
      "       Karat       0.93      1.00      0.96        13\n",
      "       Sehat       1.00      1.00      1.00        13\n",
      "\n",
      "    accuracy                           0.98        47\n",
      "   macro avg       0.98      0.98      0.98        47\n",
      "weighted avg       0.98      0.98      0.98        47\n",
      "\n"
     ]
    },
    {
     "data": {
      "image/png": "[encoded data removed]",
      "text/plain": [
       "<Figure size 600x600 with 2 Axes>"
      ]
     },
     "metadata": {},
     "output_type": "display_data"
    },
    {
     "name": "stdout",
     "output_type": "stream",
     "text": [
      "\n",
      "===== Training DENSENET121 =====\n"
     ]
    },
    {
     "name": "stderr",
     "output_type": "stream",
     "text": [
      "d:\\Miniconda\\envs\\dl_env\\Lib\\site-packages\\torchvision\\models\\_utils.py:208: UserWarning: The parameter 'pretrained' is deprecated since 0.13 and may be removed in the future, please use 'weights' instead.\n",
      "  warnings.warn(\n",
      "d:\\Miniconda\\envs\\dl_env\\Lib\\site-packages\\torchvision\\models\\_utils.py:223: UserWarning: Arguments other than a weight enum or `None` for 'weights' are deprecated since 0.13 and may be removed in the future. The current behavior is equivalent to passing `weights=DenseNet121_Weights.IMAGENET1K_V1`. You can also use `weights=DenseNet121_Weights.DEFAULT` to get the most up-to-date weights.\n",
      "  warnings.warn(msg)\n",
      "d:\\Miniconda\\envs\\dl_env\\Lib\\site-packages\\torch\\optim\\lr_scheduler.py:62: UserWarning: The verbose parameter is deprecated. Please use get_last_lr() to access the learning rate.\n",
      "  warnings.warn(\n"
     ]
    },
    {
     "name": "stdout",
     "output_type": "stream",
     "text": [
      "Epoch 1/10 - Train Loss: 1.0827 Acc: 0.3594 - Val Loss: 1.0351 Acc: 0.3913\n",
      "Epoch 2/10 - Train Loss: 0.8272 Acc: 0.7051 - Val Loss: 0.9117 Acc: 0.5870\n",
      "Epoch 3/10 - Train Loss: 0.6696 Acc: 0.8157 - Val Loss: 0.7166 Acc: 0.8696\n",
      "Epoch 4/10 - Train Loss: 0.5460 Acc: 0.8986 - Val Loss: 0.6267 Acc: 0.8043\n",
      "Epoch 5/10 - Train Loss: 0.4758 Acc: 0.8756 - Val Loss: 0.5321 Acc: 0.8261\n",
      "Epoch 6/10 - Train Loss: 0.4078 Acc: 0.9171 - Val Loss: 0.4598 Acc: 0.8913\n",
      "Epoch 7/10 - Train Loss: 0.3915 Acc: 0.9078 - Val Loss: 0.4196 Acc: 0.8478\n",
      "Epoch 8/10 - Train Loss: 0.3460 Acc: 0.9309 - Val Loss: 0.3716 Acc: 0.9348\n",
      "Epoch 9/10 - Train Loss: 0.3141 Acc: 0.9263 - Val Loss: 0.3482 Acc: 0.8913\n",
      "Epoch 10/10 - Train Loss: 0.3367 Acc: 0.8894 - Val Loss: 0.3137 Acc: 0.9130\n",
      "Training complete.\n"
     ]
    },
    {
     "name": "stderr",
     "output_type": "stream",
     "text": [
      "C:\\Users\\ASUS\\AppData\\Local\\Temp\\ipykernel_22452\\559994869.py:2: FutureWarning: You are using `torch.load` with `weights_only=False` (the current default value), which uses the default pickle module implicitly. It is possible to construct malicious pickle data which will execute arbitrary code during unpickling (See https://github.com/pytorch/pytorch/blob/main/SECURITY.md#untrusted-models for more details). In a future release, the default value for `weights_only` will be flipped to `True`. This limits the functions that could be executed during unpickling. Arbitrary objects will no longer be allowed to be loaded via this mode unless they are explicitly allowlisted by the user via `torch.serialization.add_safe_globals`. We recommend you start setting `weights_only=True` for any use case where you don't have full control of the loaded file. Please open an issue on GitHub for any issues related to this experimental feature.\n",
      "  model.load_state_dict(torch.load(model_path))\n"
     ]
    },
    {
     "name": "stdout",
     "output_type": "stream",
     "text": [
      "\n",
      "Classification Report:\n",
      "              precision    recall  f1-score   support\n",
      "\n",
      "       Hawar       1.00      1.00      1.00        21\n",
      "       Karat       1.00      1.00      1.00        13\n",
      "       Sehat       1.00      1.00      1.00        13\n",
      "\n",
      "    accuracy                           1.00        47\n",
      "   macro avg       1.00      1.00      1.00        47\n",
      "weighted avg       1.00      1.00      1.00        47\n",
      "\n"
     ]
    },
    {
     "data": {
      "image/png": "[encoded data removed]",
      "text/plain": [
       "<Figure size 600x600 with 2 Axes>"
      ]
     },
     "metadata": {},
     "output_type": "display_data"
    }
   ],
   "source": [
    "for arch in [\"resnet50\", \"densenet121\"]:\n",
    "    print(f\"\\n===== Training {arch.upper()} =====\")\n",
    "    model = build_model(arch, num_classes=len(class_names))\n",
    "    criterion = nn.CrossEntropyLoss()\n",
    "    optimizer = optim.Adam(model.parameters(), lr=0.001)\n",
    "    scheduler = optim.lr_scheduler.ReduceLROnPlateau(optimizer, mode='min', patience=3, factor=0.5, verbose=True)\n",
    "\n",
    "    train_model(model, criterion, optimizer, scheduler, num_epochs=10, patience=4)\n",
    "    evaluate_model(model, f\"best_{type(model).__name__}.pth\")"
   ]
  }
 ],
 "metadata": {
  "kernelspec": {
   "display_name": "dl_env",
   "language": "python",
   "name": "python3"
  },
  "language_info": {
   "codemirror_mode": {
    "name": "ipython",
    "version": 3
   },
   "file_extension": ".py",
   "mimetype": "text/x-python",
   "name": "python",
   "nbconvert_exporter": "python",
   "pygments_lexer": "ipython3",
   "version": "3.12.7"
  }
 },
 "nbformat": 4,
 "nbformat_minor": 5
}
